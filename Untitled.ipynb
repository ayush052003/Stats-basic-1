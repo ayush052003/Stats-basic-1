{
 "cells": [
  {
   "cell_type": "code",
   "execution_count": 1,
   "id": "db82260e-379c-4583-a28e-362db31fce9f",
   "metadata": {},
   "outputs": [
    {
     "data": {
      "text/plain": [
       "'Q1. What is Statistics?'"
      ]
     },
     "execution_count": 1,
     "metadata": {},
     "output_type": "execute_result"
    }
   ],
   "source": [
    "'''Q1. What is Statistics?'''"
   ]
  },
  {
   "cell_type": "code",
   "execution_count": 3,
   "id": "2baf0ba4-60f4-493d-985f-e5503d54e66b",
   "metadata": {},
   "outputs": [],
   "source": [
    "# Stattistics is the science of collecting, organizing, and analysing data..or we can say it is the mathematical technique for analysing, collecting,and \n",
    "# organizing tha data."
   ]
  },
  {
   "cell_type": "code",
   "execution_count": 4,
   "id": "52a532c1-12b7-488e-b96f-4ea9644af153",
   "metadata": {},
   "outputs": [
    {
     "data": {
      "text/plain": [
       "'Q2. Define the different types of statistics and give an example of when each type might be used.'"
      ]
     },
     "execution_count": 4,
     "metadata": {},
     "output_type": "execute_result"
    }
   ],
   "source": [
    "'''Q2. Define the different types of statistics and give an example of when each type might be used.'''"
   ]
  },
  {
   "cell_type": "code",
   "execution_count": 5,
   "id": "776933b2-72c9-40e0-8089-1f28875f544e",
   "metadata": {},
   "outputs": [
    {
     "data": {
      "text/plain": [
       "'There are generally two types of statistics....'"
      ]
     },
     "execution_count": 5,
     "metadata": {},
     "output_type": "execute_result"
    }
   ],
   "source": [
    "'''There are generally two types of statistics....'''"
   ]
  },
  {
   "cell_type": "code",
   "execution_count": 6,
   "id": "e4326fcf-0a70-4567-912a-52aa4359f0cd",
   "metadata": {},
   "outputs": [],
   "source": [
    "# 1..Descriptive statistics\n",
    "\n",
    "# 2..Inferential statistics"
   ]
  },
  {
   "cell_type": "code",
   "execution_count": 8,
   "id": "83c09779-79c5-4209-ae58-19a9aaee757c",
   "metadata": {},
   "outputs": [
    {
     "data": {
      "text/plain": [
       "'Descriptive statistics - This statistics consists of organizing nad summerizing a data,,,by this technique we generally calculate following ...'"
      ]
     },
     "execution_count": 8,
     "metadata": {},
     "output_type": "execute_result"
    }
   ],
   "source": [
    "'''Descriptive statistics - This statistics consists of organizing nad summerizing a data,,,by this technique we generally calculate following ...'''"
   ]
  },
  {
   "cell_type": "code",
   "execution_count": 9,
   "id": "981d50ac-c574-47de-85d3-7cd3fc96e27e",
   "metadata": {},
   "outputs": [],
   "source": [
    "# A. Measure of central tendency\n",
    "\n",
    "# B. Measure of dispersion\n",
    "\n",
    "# C. Different types of distribution"
   ]
  },
  {
   "cell_type": "code",
   "execution_count": 11,
   "id": "08211571-0ece-4f35-ad92-2eb1fe767199",
   "metadata": {},
   "outputs": [
    {
     "data": {
      "text/plain": [
       "'Inferential statistics - This statistics generally consists of using data you have measured to form conclusion...it also consists of following tests...'"
      ]
     },
     "execution_count": 11,
     "metadata": {},
     "output_type": "execute_result"
    }
   ],
   "source": [
    "'''Inferential statistics - This statistics generally consists of using data you have measured to form conclusion...it also consists of following tests...'''"
   ]
  },
  {
   "cell_type": "code",
   "execution_count": 12,
   "id": "b4975558-24ea-4de3-9e04-300fbb26acc9",
   "metadata": {},
   "outputs": [],
   "source": [
    "# A. Z-Test\n",
    "\n",
    "# B. T-Test\n",
    "\n",
    "# C. Chi-square-Test"
   ]
  },
  {
   "cell_type": "code",
   "execution_count": 13,
   "id": "191952ae-f411-41e6-b133-11a4a5e9e60c",
   "metadata": {},
   "outputs": [
    {
     "data": {
      "text/plain": [
       "'Q3.  What are the different types of data and how do they differ from each other? Provide an example of \\neach type of data'"
      ]
     },
     "execution_count": 13,
     "metadata": {},
     "output_type": "execute_result"
    }
   ],
   "source": [
    "'''Q3.  What are the different types of data and how do they differ from each other? Provide an example of \n",
    "each type of data'''"
   ]
  },
  {
   "cell_type": "code",
   "execution_count": 14,
   "id": "73c91c8c-8c64-4268-991a-bb62d8784a7a",
   "metadata": {},
   "outputs": [
    {
     "data": {
      "text/plain": [
       "'There are generally two types of data'"
      ]
     },
     "execution_count": 14,
     "metadata": {},
     "output_type": "execute_result"
    }
   ],
   "source": [
    "'''There are generally two types of data'''"
   ]
  },
  {
   "cell_type": "code",
   "execution_count": 15,
   "id": "0d0d790c-feb7-4686-9f08-ea5134a65cc9",
   "metadata": {},
   "outputs": [],
   "source": [
    "# 1. Qualitative Data\n",
    "\n",
    "# 2. Quantitative Data"
   ]
  },
  {
   "cell_type": "code",
   "execution_count": 23,
   "id": "53e26350-8736-4c9f-885d-e33bd2f8e0d1",
   "metadata": {},
   "outputs": [
    {
     "data": {
      "text/plain": [
       "'Quantitative Data - These are the that type of data that consists of numerical values...that type of data is known as quantitative data...Qualitative\\nalso consists of two types---'"
      ]
     },
     "execution_count": 23,
     "metadata": {},
     "output_type": "execute_result"
    }
   ],
   "source": [
    "'''Quantitative Data - These are the that type of data that consists of numerical values...that type of data is known as quantitative data...Qualitative\n",
    "also consists of two types---'''"
   ]
  },
  {
   "cell_type": "code",
   "execution_count": null,
   "id": "71f214f5-313a-4a1b-94ef-b7a5e525bb23",
   "metadata": {},
   "outputs": [],
   "source": [
    "# A. Discrete Data\n",
    "\n",
    "# B. Continous Data\n",
    "\n",
    "# Use cases - no. of amily members, height, weight, no. of phones"
   ]
  },
  {
   "cell_type": "code",
   "execution_count": 24,
   "id": "1e5a31de-c1b2-49e5-9f14-368e427e219f",
   "metadata": {},
   "outputs": [
    {
     "data": {
      "text/plain": [
       "'Qualitative Data -  These are the that type of data that consists of categorical values...that type of data is known as qualitative data...Quantitative\\nalso consists of two types---'"
      ]
     },
     "execution_count": 24,
     "metadata": {},
     "output_type": "execute_result"
    }
   ],
   "source": [
    "'''Qualitative Data -  These are the that type of data that consists of categorical values...that type of data is known as qualitative data...Quantitative\n",
    "also consists of two types---'''"
   ]
  },
  {
   "cell_type": "code",
   "execution_count": 25,
   "id": "de6fc1a7-7ee5-416c-a594-d3306324aad8",
   "metadata": {},
   "outputs": [],
   "source": [
    "# A. Nominal Data\n",
    "\n",
    "# B. Ordinal Data\n",
    "\n",
    "# Use cases - gender, public reviews, blood group"
   ]
  },
  {
   "cell_type": "code",
   "execution_count": 26,
   "id": "5a5a02e9-be7a-461d-9204-406d637de1de",
   "metadata": {},
   "outputs": [
    {
     "data": {
      "text/plain": [
       "'Q4. Categorise the following datasets with respect to quantitative and qualitative data types:\\n\\n(i)\\tGrading in exam: A+, A, B+, B, C+, C, D, E\\n\\n(ii)\\tColour of mangoes: yellow, green, orange, red\\n\\n(iii)\\tHeight data of a class: [178.9, 179, 179.5, 176, 177.2, 178.3, 175.8,...]\\n\\n(iv)\\tNumber of mangoes exported by a farm: [500, 600, 478, 672, …]'"
      ]
     },
     "execution_count": 26,
     "metadata": {},
     "output_type": "execute_result"
    }
   ],
   "source": [
    "'''Q4. Categorise the following datasets with respect to quantitative and qualitative data types:\n",
    "\n",
    "(i)\tGrading in exam: A+, A, B+, B, C+, C, D, E\n",
    "\n",
    "(ii)\tColour of mangoes: yellow, green, orange, red\n",
    "\n",
    "(iii)\tHeight data of a class: [178.9, 179, 179.5, 176, 177.2, 178.3, 175.8,...]\n",
    "\n",
    "(iv)\tNumber of mangoes exported by a farm: [500, 600, 478, 672, …]'''"
   ]
  },
  {
   "cell_type": "code",
   "execution_count": 28,
   "id": "e64822f0-79a2-43d1-bd81-edfef63d3e92",
   "metadata": {},
   "outputs": [
    {
     "data": {
      "text/plain": [
       "'(i)\\tGrading in exam: A+, A, B+, B, C+, C, D, E --- Nominal Qualitative Data'"
      ]
     },
     "execution_count": 28,
     "metadata": {},
     "output_type": "execute_result"
    }
   ],
   "source": [
    "'''(i)\tGrading in exam: A+, A, B+, B, C+, C, D, E --- Nominal Qualitative Data'''"
   ]
  },
  {
   "cell_type": "code",
   "execution_count": 30,
   "id": "1c272574-e56f-49a4-adef-156b2f804b2b",
   "metadata": {},
   "outputs": [
    {
     "data": {
      "text/plain": [
       "'(ii)\\tColour of mangoes: yellow, green, orange, red --- Nominal Qualitative Data'"
      ]
     },
     "execution_count": 30,
     "metadata": {},
     "output_type": "execute_result"
    }
   ],
   "source": [
    "'''(ii)\tColour of mangoes: yellow, green, orange, red --- Nominal Qualitative Data'''"
   ]
  },
  {
   "cell_type": "code",
   "execution_count": 31,
   "id": "4443763c-1201-489d-a3dc-0105a3afb490",
   "metadata": {},
   "outputs": [
    {
     "data": {
      "text/plain": [
       "'(iii)\\tHeight data of a class: [178.9, 179, 179.5, 176, 177.2, 178.3, 175.8,...] --- Continous Quantative Data'"
      ]
     },
     "execution_count": 31,
     "metadata": {},
     "output_type": "execute_result"
    }
   ],
   "source": [
    "'''(iii)\tHeight data of a class: [178.9, 179, 179.5, 176, 177.2, 178.3, 175.8,...] --- Continous Quantative Data'''"
   ]
  },
  {
   "cell_type": "code",
   "execution_count": 32,
   "id": "5c2672f1-2c0c-430c-addb-48f6437bdd4a",
   "metadata": {},
   "outputs": [
    {
     "data": {
      "text/plain": [
       "'(iv)\\tNumber of mangoes exported by a farm: [500, 600, 478, 672, …] --- Discrete Quantative Data '"
      ]
     },
     "execution_count": 32,
     "metadata": {},
     "output_type": "execute_result"
    }
   ],
   "source": [
    "'''(iv)\tNumber of mangoes exported by a farm: [500, 600, 478, 672, …] --- Discrete Quantative Data '''"
   ]
  },
  {
   "cell_type": "code",
   "execution_count": 33,
   "id": "ac2036d8-de87-48f3-bc8b-c57bf7ddd5e0",
   "metadata": {},
   "outputs": [
    {
     "data": {
      "text/plain": [
       "'Q5. Explain the concept of levels of measurement and give an example of a variable for each level.'"
      ]
     },
     "execution_count": 33,
     "metadata": {},
     "output_type": "execute_result"
    }
   ],
   "source": [
    "'''Q5. Explain the concept of levels of measurement and give an example of a variable for each level.'''"
   ]
  },
  {
   "cell_type": "code",
   "execution_count": 34,
   "id": "d56519f8-ee27-4706-a53d-97ca9618b452",
   "metadata": {},
   "outputs": [
    {
     "data": {
      "text/plain": [
       "'There are four levels of measurement that are given below...'"
      ]
     },
     "execution_count": 34,
     "metadata": {},
     "output_type": "execute_result"
    }
   ],
   "source": [
    "'''There are four levels of measurement that are given below...'''"
   ]
  },
  {
   "cell_type": "code",
   "execution_count": 35,
   "id": "1c0857b0-6207-4a12-9fd0-13ef5fb8bbca",
   "metadata": {},
   "outputs": [],
   "source": [
    "# 1. Nominal scale data - Qualitative / Categorical, Order does not matters, eg-gender, color, habits."
   ]
  },
  {
   "cell_type": "code",
   "execution_count": 37,
   "id": "936f4351-4dc3-4d7a-8a95-72f528fc53be",
   "metadata": {},
   "outputs": [],
   "source": [
    "# 2. Ordinal scale data - Ranking is importatnt, Order matters, Difference cannot be measured, eg - good,better,best."
   ]
  },
  {
   "cell_type": "code",
   "execution_count": 39,
   "id": "fd94a273-8a85-4e09-80df-e965915c780c",
   "metadata": {},
   "outputs": [],
   "source": [
    "# 3. Interval scale data - Order matters, Difference can be measured, Ratio cannot be measured, No \"0\" string points."
   ]
  },
  {
   "cell_type": "code",
   "execution_count": 40,
   "id": "41aad594-a28c-48c2-946d-1e81e5c00b7e",
   "metadata": {},
   "outputs": [],
   "source": [
    "# 4. Ratio scale data - Order matters, Difference can be measured(including ratio), Contains a \"0\" string points."
   ]
  },
  {
   "cell_type": "code",
   "execution_count": 41,
   "id": "38f7a78b-7615-4924-bf09-64840bcf6a74",
   "metadata": {},
   "outputs": [
    {
     "data": {
      "text/plain": [
       "'Q6. Why is it important to understand the level of measurement when analyzing data? Provide an \\nexample to illustrate your answer.'"
      ]
     },
     "execution_count": 41,
     "metadata": {},
     "output_type": "execute_result"
    }
   ],
   "source": [
    "'''Q6. Why is it important to understand the level of measurement when analyzing data? Provide an \n",
    "example to illustrate your answer.'''"
   ]
  },
  {
   "cell_type": "code",
   "execution_count": 42,
   "id": "453094e9-016e-4809-9eec-8e086b72b41e",
   "metadata": {},
   "outputs": [
    {
     "data": {
      "text/plain": [
       "'Levels of measurement are important because they indicate the extent to which statisticians, marketing analysts and financial analysts\\ncan use existing data. For instance, if you classify your data at the ordinal level of measurement, you know that you can evaluate\\nhow items compare to each other based on a specific hierarchy.'"
      ]
     },
     "execution_count": 42,
     "metadata": {},
     "output_type": "execute_result"
    }
   ],
   "source": [
    "'''Levels of measurement are important because they indicate the extent to which statisticians, marketing analysts and financial analysts\n",
    "can use existing data. For instance, if you classify your data at the ordinal level of measurement, you know that you can evaluate\n",
    "how items compare to each other based on a specific hierarchy.'''"
   ]
  },
  {
   "cell_type": "code",
   "execution_count": 43,
   "id": "35dfb7b1-4fb1-4e98-bdab-fd7991151979",
   "metadata": {},
   "outputs": [
    {
     "data": {
      "text/plain": [
       "'Example of a variable at 2 levels of measurement\\nYou can measure the variable of income at an ordinal or ratio level.\\nOrdinal level: You create brackets of income ranges: $0–$19,999, $20,000–$39,999, and $40,000–$59,999. You ask participants to select\\nthe bracket that represents their annual income. The brackets are coded with numbers from 1–3.\\nRatio level: You collect data on the exact annual incomes of your participants.\\nParticipant\\tIncome (ordinal level)\\tIncome (ratio level)\\nA\\tBracket 1\\t$12,550\\nB\\tBracket 2\\t$39,700\\nC\\tBracket 3\\t$40,300\\nAt a ratio level, you can see that the difference between A and B’s incomes is far greater than the difference between B and C’s\\nincomes.'"
      ]
     },
     "execution_count": 43,
     "metadata": {},
     "output_type": "execute_result"
    }
   ],
   "source": [
    "'''Example of a variable at 2 levels of measurement\n",
    "You can measure the variable of income at an ordinal or ratio level.\n",
    "Ordinal level: You create brackets of income ranges: $0–$19,999, $20,000–$39,999, and $40,000–$59,999. You ask participants to select\n",
    "the bracket that represents their annual income. The brackets are coded with numbers from 1–3.\n",
    "Ratio level: You collect data on the exact annual incomes of your participants.\n",
    "Participant\tIncome (ordinal level)\tIncome (ratio level)\n",
    "A\tBracket 1\t$12,550\n",
    "B\tBracket 2\t$39,700\n",
    "C\tBracket 3\t$40,300\n",
    "At a ratio level, you can see that the difference between A and B’s incomes is far greater than the difference between B and C’s\n",
    "incomes.'''"
   ]
  },
  {
   "cell_type": "code",
   "execution_count": 44,
   "id": "8abc1822-0a65-4787-9220-fadc2079bd0e",
   "metadata": {},
   "outputs": [
    {
     "data": {
      "text/plain": [
       "'Q7. How nominal data type is different from ordinal data type.'"
      ]
     },
     "execution_count": 44,
     "metadata": {},
     "output_type": "execute_result"
    }
   ],
   "source": [
    "'''Q7. How nominal data type is different from ordinal data type.'''"
   ]
  },
  {
   "cell_type": "code",
   "execution_count": 45,
   "id": "d0f8033d-289a-4ac7-866d-6daa257e8856",
   "metadata": {},
   "outputs": [
    {
     "data": {
      "text/plain": [
       "'When looking at Stevens’ four levels of measurement, nominal data lies at one extreme of the scale. To collect this information, \\nresearchers simply had to classify something into a pre-defined category. Categories showed no order apart from membership based on\\nsome criteria. So, whether someone is a Democrat, Republican, or independent voter, or whether an animal is a fish, bird, mammal, \\nreptile, amphibian, or insect are both examples of nominal data. \\n\\nOn the other extreme of Stevens’ scale lies ratio data, which has a true zero, equal spacing between units of observation and a\\nscale applicable to every observation that extends from small to large. Temperature in kelvins, income, years of life, and speed\\nare examples of ratio-scale data.\\n\\nOrdinal data falls between these two extremes. Unlike its nominal cousin, ordinal categories have a rank structure. On the other \\nhand, unlike its ratio-scale cousin, distances between ordinal ranks do not need to be equal or even standardized between rank levels.'"
      ]
     },
     "execution_count": 45,
     "metadata": {},
     "output_type": "execute_result"
    }
   ],
   "source": [
    "'''When looking at Stevens’ four levels of measurement, nominal data lies at one extreme of the scale. To collect this information, \n",
    "researchers simply had to classify something into a pre-defined category. Categories showed no order apart from membership based on\n",
    "some criteria. So, whether someone is a Democrat, Republican, or independent voter, or whether an animal is a fish, bird, mammal, \n",
    "reptile, amphibian, or insect are both examples of nominal data. \n",
    "\n",
    "On the other extreme of Stevens’ scale lies ratio data, which has a true zero, equal spacing between units of observation and a\n",
    "scale applicable to every observation that extends from small to large. Temperature in kelvins, income, years of life, and speed\n",
    "are examples of ratio-scale data.\n",
    "\n",
    "Ordinal data falls between these two extremes. Unlike its nominal cousin, ordinal categories have a rank structure. On the other \n",
    "hand, unlike its ratio-scale cousin, distances between ordinal ranks do not need to be equal or even standardized between rank levels.''' "
   ]
  },
  {
   "cell_type": "code",
   "execution_count": 47,
   "id": "166ae80d-e191-4d5f-a282-b9398f33eeb0",
   "metadata": {},
   "outputs": [
    {
     "data": {
      "text/plain": [
       "'Q8. Which type of plot can be used to display data in terms of range?'"
      ]
     },
     "execution_count": 47,
     "metadata": {},
     "output_type": "execute_result"
    }
   ],
   "source": [
    "'''Q8. Which type of plot can be used to display data in terms of range?'''"
   ]
  },
  {
   "cell_type": "code",
   "execution_count": 48,
   "id": "75adfa70-3d56-44b9-814a-ddd7edf9f092",
   "metadata": {},
   "outputs": [
    {
     "data": {
      "text/plain": [
       "'Box-whisker plot: the box is marked by the first and third quartile, and the whiskers extend to the range'"
      ]
     },
     "execution_count": 48,
     "metadata": {},
     "output_type": "execute_result"
    }
   ],
   "source": [
    "# The following types of plots can be used to display data in terms of range:\n",
    "    \n",
    "'''Range chart: displays sets of data points, each of which is defined by multiple values for the same category, and emphasizes the\n",
    "distance between the two values1.'''\n",
    "\n",
    "\n",
    "'''Histogram: shows bars representing groupings of a given dimension, with each column representing a number of entries that fall into\n",
    "a range2.'''\n",
    "\n",
    "\n",
    "'''Box-whisker plot: the box is marked by the first and third quartile, and the whiskers extend to the range'''"
   ]
  },
  {
   "cell_type": "code",
   "execution_count": 49,
   "id": "d9ed8cd4-40d7-4a74-b6d2-6fbcdea7b9d1",
   "metadata": {},
   "outputs": [
    {
     "data": {
      "text/plain": [
       "'Q9. Describe the difference between descriptive and inferential statistics. Give an example of each \\ntype of statistics and explain how they are used ?'"
      ]
     },
     "execution_count": 49,
     "metadata": {},
     "output_type": "execute_result"
    }
   ],
   "source": [
    "'''Q9. Describe the difference between descriptive and inferential statistics. Give an example of each \n",
    "type of statistics and explain how they are used ?'''"
   ]
  },
  {
   "cell_type": "code",
   "execution_count": 50,
   "id": "df662156-08fb-4682-9c09-de872c2a82f5",
   "metadata": {},
   "outputs": [
    {
     "data": {
      "text/plain": [
       "'Descriptive statistics summarize and describe the main features of a dataset, providing simple and meaningful insights. Inferential\\nstatistics draw conclusions or make predictions about a population based on a sample of data, using probability theory and hypothesis\\ntesting. Together, they help analysts understand and interpret the characteristics of data.'"
      ]
     },
     "execution_count": 50,
     "metadata": {},
     "output_type": "execute_result"
    }
   ],
   "source": [
    "'''Descriptive statistics summarize and describe the main features of a dataset, providing simple and meaningful insights. Inferential\n",
    "statistics draw conclusions or make predictions about a population based on a sample of data, using probability theory and hypothesis\n",
    "testing. Together, they help analysts understand and interpret the characteristics of data.'''"
   ]
  },
  {
   "cell_type": "code",
   "execution_count": 51,
   "id": "c67943f5-10ea-418e-a2ae-1229521bd8a2",
   "metadata": {},
   "outputs": [],
   "source": [
    "# Descriptive statistics generally used to calculate the following ...\n",
    "\n",
    "# A. Measure of central tendency\n",
    "\n",
    "# B. Measure of dispersion\n",
    "\n",
    "# C. Different types of distribution"
   ]
  },
  {
   "cell_type": "code",
   "execution_count": 52,
   "id": "93ba322a-e954-45d5-a088-7ed00b5895d2",
   "metadata": {},
   "outputs": [],
   "source": [
    "# Inferential statistics generally used to calculate the Hypothesis by the following tests..\n",
    "\n",
    "# A. Z-Test\n",
    "\n",
    "# B. T-Test\n",
    "\n",
    "# C. Chi-square-Test"
   ]
  },
  {
   "cell_type": "code",
   "execution_count": 53,
   "id": "dc46fd0c-464b-4fe4-8c01-df1c6a1a0728",
   "metadata": {},
   "outputs": [
    {
     "data": {
      "text/plain": [
       "'Q10. What are some common measures of central tendency and variability used in statistics? Explain \\nhow each measure can be used to describe a dataset.'"
      ]
     },
     "execution_count": 53,
     "metadata": {},
     "output_type": "execute_result"
    }
   ],
   "source": [
    "'''Q10. What are some common measures of central tendency and variability used in statistics? Explain \n",
    "how each measure can be used to describe a dataset.'''"
   ]
  },
  {
   "cell_type": "code",
   "execution_count": 54,
   "id": "1cc55b02-e001-43b0-980f-28f44fa30223",
   "metadata": {},
   "outputs": [],
   "source": [
    "# There are generally three types of central tendencies which are given below..."
   ]
  },
  {
   "cell_type": "markdown",
   "id": "767a99a7-a6ad-4b24-bf40-00c9864387ce",
   "metadata": {},
   "source": [
    "Mean"
   ]
  },
  {
   "cell_type": "code",
   "execution_count": 55,
   "id": "854cf743-159b-46d5-81e6-1376f9c8f3ec",
   "metadata": {},
   "outputs": [],
   "source": [
    "Ram = [2,4,6,8,10,12,16,20,24]"
   ]
  },
  {
   "cell_type": "code",
   "execution_count": 56,
   "id": "d4420a8e-1647-4ab4-92bc-21b7f097e568",
   "metadata": {},
   "outputs": [
    {
     "data": {
      "text/plain": [
       "11.333333333333334"
      ]
     },
     "execution_count": 56,
     "metadata": {},
     "output_type": "execute_result"
    }
   ],
   "source": [
    "import numpy as np\n",
    "np.mean(Ram)"
   ]
  },
  {
   "cell_type": "code",
   "execution_count": 57,
   "id": "78cfca48-ce5a-4ffa-bceb-f9bc4bceccf3",
   "metadata": {},
   "outputs": [
    {
     "data": {
      "text/plain": [
       "48.4"
      ]
     },
     "execution_count": 57,
     "metadata": {},
     "output_type": "execute_result"
    }
   ],
   "source": [
    "age = [20,34,56,24,35,67,89,45,31,65,76,97,6,45,36]\n",
    "np.mean(age)"
   ]
  },
  {
   "cell_type": "code",
   "execution_count": 64,
   "id": "2db3a659-c7b0-4e35-be70-305a7fd72a39",
   "metadata": {},
   "outputs": [],
   "source": [
    "import seaborn as sns"
   ]
  },
  {
   "cell_type": "code",
   "execution_count": 65,
   "id": "10d9af40-7b20-40fe-a5b0-484a44f3f689",
   "metadata": {},
   "outputs": [],
   "source": [
    "df = sns.load_dataset('tips')"
   ]
  },
  {
   "cell_type": "code",
   "execution_count": 66,
   "id": "218a8419-9489-4ea5-af1c-6c19c08eaaf5",
   "metadata": {},
   "outputs": [
    {
     "data": {
      "text/html": [
       "<div>\n",
       "<style scoped>\n",
       "    .dataframe tbody tr th:only-of-type {\n",
       "        vertical-align: middle;\n",
       "    }\n",
       "\n",
       "    .dataframe tbody tr th {\n",
       "        vertical-align: top;\n",
       "    }\n",
       "\n",
       "    .dataframe thead th {\n",
       "        text-align: right;\n",
       "    }\n",
       "</style>\n",
       "<table border=\"1\" class=\"dataframe\">\n",
       "  <thead>\n",
       "    <tr style=\"text-align: right;\">\n",
       "      <th></th>\n",
       "      <th>total_bill</th>\n",
       "      <th>tip</th>\n",
       "      <th>sex</th>\n",
       "      <th>smoker</th>\n",
       "      <th>day</th>\n",
       "      <th>time</th>\n",
       "      <th>size</th>\n",
       "    </tr>\n",
       "  </thead>\n",
       "  <tbody>\n",
       "    <tr>\n",
       "      <th>0</th>\n",
       "      <td>16.99</td>\n",
       "      <td>1.01</td>\n",
       "      <td>Female</td>\n",
       "      <td>No</td>\n",
       "      <td>Sun</td>\n",
       "      <td>Dinner</td>\n",
       "      <td>2</td>\n",
       "    </tr>\n",
       "    <tr>\n",
       "      <th>1</th>\n",
       "      <td>10.34</td>\n",
       "      <td>1.66</td>\n",
       "      <td>Male</td>\n",
       "      <td>No</td>\n",
       "      <td>Sun</td>\n",
       "      <td>Dinner</td>\n",
       "      <td>3</td>\n",
       "    </tr>\n",
       "    <tr>\n",
       "      <th>2</th>\n",
       "      <td>21.01</td>\n",
       "      <td>3.50</td>\n",
       "      <td>Male</td>\n",
       "      <td>No</td>\n",
       "      <td>Sun</td>\n",
       "      <td>Dinner</td>\n",
       "      <td>3</td>\n",
       "    </tr>\n",
       "    <tr>\n",
       "      <th>3</th>\n",
       "      <td>23.68</td>\n",
       "      <td>3.31</td>\n",
       "      <td>Male</td>\n",
       "      <td>No</td>\n",
       "      <td>Sun</td>\n",
       "      <td>Dinner</td>\n",
       "      <td>2</td>\n",
       "    </tr>\n",
       "    <tr>\n",
       "      <th>4</th>\n",
       "      <td>24.59</td>\n",
       "      <td>3.61</td>\n",
       "      <td>Female</td>\n",
       "      <td>No</td>\n",
       "      <td>Sun</td>\n",
       "      <td>Dinner</td>\n",
       "      <td>4</td>\n",
       "    </tr>\n",
       "  </tbody>\n",
       "</table>\n",
       "</div>"
      ],
      "text/plain": [
       "   total_bill   tip     sex smoker  day    time  size\n",
       "0       16.99  1.01  Female     No  Sun  Dinner     2\n",
       "1       10.34  1.66    Male     No  Sun  Dinner     3\n",
       "2       21.01  3.50    Male     No  Sun  Dinner     3\n",
       "3       23.68  3.31    Male     No  Sun  Dinner     2\n",
       "4       24.59  3.61  Female     No  Sun  Dinner     4"
      ]
     },
     "execution_count": 66,
     "metadata": {},
     "output_type": "execute_result"
    }
   ],
   "source": [
    "df.head()"
   ]
  },
  {
   "cell_type": "code",
   "execution_count": 67,
   "id": "597f3236-795b-4313-a467-76d195335474",
   "metadata": {},
   "outputs": [
    {
     "data": {
      "text/plain": [
       "19.78594262295082"
      ]
     },
     "execution_count": 67,
     "metadata": {},
     "output_type": "execute_result"
    }
   ],
   "source": [
    "np.mean(df['total_bill'])"
   ]
  },
  {
   "cell_type": "markdown",
   "id": "02ed7ae8-39ce-4471-8e7e-a86afdf212d2",
   "metadata": {},
   "source": [
    "Median"
   ]
  },
  {
   "cell_type": "code",
   "execution_count": 58,
   "id": "40a71d6e-2d23-40fc-b039-2c29941c1aaa",
   "metadata": {},
   "outputs": [
    {
     "data": {
      "text/plain": [
       "10.0"
      ]
     },
     "execution_count": 58,
     "metadata": {},
     "output_type": "execute_result"
    }
   ],
   "source": [
    "np.median(Ram)"
   ]
  },
  {
   "cell_type": "code",
   "execution_count": 59,
   "id": "99a063e9-b46f-4dca-80ac-acc7c72148bc",
   "metadata": {},
   "outputs": [
    {
     "data": {
      "text/plain": [
       "45.0"
      ]
     },
     "execution_count": 59,
     "metadata": {},
     "output_type": "execute_result"
    }
   ],
   "source": [
    "np.median(age)"
   ]
  },
  {
   "cell_type": "code",
   "execution_count": 68,
   "id": "ab4a05c3-59f5-4ddc-8ba8-e69f40176e2e",
   "metadata": {},
   "outputs": [
    {
     "data": {
      "text/plain": [
       "2.0"
      ]
     },
     "execution_count": 68,
     "metadata": {},
     "output_type": "execute_result"
    }
   ],
   "source": [
    "np.median(df['size'])"
   ]
  },
  {
   "cell_type": "markdown",
   "id": "772dcb3b-f46b-4a3b-8d9a-0d1d76aa5e5d",
   "metadata": {},
   "source": [
    "Mode"
   ]
  },
  {
   "cell_type": "code",
   "execution_count": 60,
   "id": "38a4e159-071c-47d7-8759-5fd4b69fd50c",
   "metadata": {},
   "outputs": [],
   "source": [
    "from scipy import stats"
   ]
  },
  {
   "cell_type": "code",
   "execution_count": 61,
   "id": "175b8ab6-47ad-4744-8d5a-5ff8a1e6833c",
   "metadata": {},
   "outputs": [
    {
     "name": "stderr",
     "output_type": "stream",
     "text": [
      "/tmp/ipykernel_173/2474845003.py:1: FutureWarning: Unlike other reduction functions (e.g. `skew`, `kurtosis`), the default behavior of `mode` typically preserves the axis it acts along. In SciPy 1.11.0, this behavior will change: the default value of `keepdims` will become False, the `axis` over which the statistic is taken will be eliminated, and the value None will no longer be accepted. Set `keepdims` to True or False to avoid this warning.\n",
      "  stats.mode(age)\n"
     ]
    },
    {
     "data": {
      "text/plain": [
       "ModeResult(mode=array([45]), count=array([2]))"
      ]
     },
     "execution_count": 61,
     "metadata": {},
     "output_type": "execute_result"
    }
   ],
   "source": [
    "stats.mode(age)"
   ]
  },
  {
   "cell_type": "code",
   "execution_count": 63,
   "id": "ad1efe4f-c3d6-4822-9f4a-d2ed6ddbe0de",
   "metadata": {},
   "outputs": [
    {
     "name": "stderr",
     "output_type": "stream",
     "text": [
      "/tmp/ipykernel_173/839646436.py:1: FutureWarning: Unlike other reduction functions (e.g. `skew`, `kurtosis`), the default behavior of `mode` typically preserves the axis it acts along. In SciPy 1.11.0, this behavior will change: the default value of `keepdims` will become False, the `axis` over which the statistic is taken will be eliminated, and the value None will no longer be accepted. Set `keepdims` to True or False to avoid this warning.\n",
      "  stats.mode(Ram)\n"
     ]
    },
    {
     "data": {
      "text/plain": [
       "ModeResult(mode=array([2]), count=array([1]))"
      ]
     },
     "execution_count": 63,
     "metadata": {},
     "output_type": "execute_result"
    }
   ],
   "source": [
    "stats.mode(Ram)"
   ]
  },
  {
   "cell_type": "code",
   "execution_count": null,
   "id": "ff732e6d-f822-4f63-a65f-2690355d10f7",
   "metadata": {},
   "outputs": [],
   "source": []
  }
 ],
 "metadata": {
  "kernelspec": {
   "display_name": "Python 3 (ipykernel)",
   "language": "python",
   "name": "python3"
  },
  "language_info": {
   "codemirror_mode": {
    "name": "ipython",
    "version": 3
   },
   "file_extension": ".py",
   "mimetype": "text/x-python",
   "name": "python",
   "nbconvert_exporter": "python",
   "pygments_lexer": "ipython3",
   "version": "3.10.8"
  }
 },
 "nbformat": 4,
 "nbformat_minor": 5
}
